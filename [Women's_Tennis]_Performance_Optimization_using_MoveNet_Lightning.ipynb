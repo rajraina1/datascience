{
  "nbformat": 4,
  "nbformat_minor": 0,
  "metadata": {
    "colab": {
      "provenance": [],
      "authorship_tag": "ABX9TyPpCJWA5TcK7A2M+Nl8iKs5",
      "include_colab_link": true
    },
    "kernelspec": {
      "name": "python3",
      "display_name": "Python 3"
    },
    "language_info": {
      "name": "python"
    }
  },
  "cells": [
    {
      "cell_type": "markdown",
      "metadata": {
        "id": "view-in-github",
        "colab_type": "text"
      },
      "source": [
        "<a href=\"https://colab.research.google.com/github/rajraina1/datascience/blob/main/%5BWomen's_Tennis%5D_Performance_Optimization_using_MoveNet_Lightning.ipynb\" target=\"_parent\"><img src=\"https://colab.research.google.com/assets/colab-badge.svg\" alt=\"Open In Colab\"/></a>"
      ]
    },
    {
      "cell_type": "markdown",
      "source": [
        "#Women's Tennis: How does a Player's Posture Between Points affect Athletic Outcomes?"
      ],
      "metadata": {
        "id": "UAN0x0NaZufO"
      }
    },
    {
      "cell_type": "markdown",
      "source": [
        "#OVERVIEW\n",
        "\n",
        "Existing empirical research in athletic posture analysis either deals with a player's posture *during* points (i.e. stroke-mechanics) ; or , with a player's posture immediately following victory.\n",
        "\n",
        "Using **women's tennis** as a case study, this research **examines players' posture *between* points**, throughout the match, as a potentially **distinguishing factor of skill** . We employ MoveNet AI's Deeplearning Pose Estimation Rendering to empirically answer the following question.\n",
        "\n",
        "> QUESTION: Do **top-ranked** WTA tennis players exhibit **stronger posturing between points**, compared to **lower-ranked** Women's Challenger tennis players?\n",
        "\n",
        "An affirmative response to this question would suggest that in addition to stroke mechanics, coaches and players should place special emphasis on **between-point posture** as a driver of **long-term athletic success**.\n",
        "\n",
        "![text](https://drive.google.com/uc?export=view&id=1VE4IRCMfL3bcCrcQF7CG9L3gYI95efQn)\n",
        "\n",
        "To empirically answer this question, we look at **equally-skilled matches** and employ the following methodology:\n",
        "\n",
        "> 1) Take a simple random sample of $X=30$ images from WTA & Challengers atheletes' posture between points (*),\n",
        "\n",
        "> 2) Use MoveNet AI & tensorflow to systematically classify each posture as negative, neutral, or positive.\n",
        "\n",
        "Because the postures are **drawn at random** and from equally-skilled matches, the posture would not be related to one player completely dominating (or being dominated by) another. We then use our **systematic posture classification** to examine whether there is an empirical difference between top-ranked WTA players and lower ranked women's Challenger players.  \n",
        "\n",
        "This research is the **first to examine** whether *between-point* posture differentiates atheletes, instead of traditional research which focuses on *during-point* stroke analysis or *post-game* posture analysis. Please see the **full Python code**, which includes **MoveNet rendering** & statistical analysis tools, at [Raj's Google Colab Doc](https://colab.research.google.com/drive/1sBl3iQHMe2RDq8ErY4aDI-R7S2rgHWbR?usp=sharing).\n",
        "\n",
        " (*) Note that due to time and resource restraints, the chosen value of $X$ is relatively small. This analysis is not airtight, but is intended as a proof-of-concept to show the researcher's facility with classical pose-estimation tools and ability to formulate an interesting & relevant problem, and to execute on a reasonable methodology.\n"
      ],
      "metadata": {
        "id": "3vKHOLAbfPbU"
      }
    },
    {
      "cell_type": "markdown",
      "source": [
        "#DATA COLLECTION\n",
        "\n",
        "We scrape $X=30$ images from various female tennis matches. Images are drawn as in a simple random sample, selected **uniformly and at random** across the duration of the match, subject to the following restrictions:\n",
        "\n",
        "*   15 images are taken from top-ranked WTA players in equally-skilled matches (**Serena Williams** in Serena VS Venus matches, **Aryna Sabalenka** in Sabalenka VS Swiatek matches, and **Maria Sharapova** in Sharapova VS Wozniaki matches)\n",
        "*   15 images are taken from lower-ranked Challengers female players in equally-skilled matches (**Priscilla Hon** in Hon VS Birell matches, **Eva Lys** in Lys VS Vondrousova matches, **Lou Brouleau** in Brouleau VS Thamchaiwat matches)\n",
        "* All images are drawn from when the players are *between* points.\n",
        "\n",
        "\n",
        "We then process each image using MoveNet Lightning's Deeplearning Pose Estimation Rendering tool to rigorously map limb location and relative distances. We use the resulting pose estimation to gather an empirical \"pose-value\" , which maps to a classification of each posture as negative, neutral, or positive based on our own empirical classification algorithm (detailed in the next section).\n",
        "\n",
        "Hence, each of the 30 images is reduced to a three-dimensional **(string, decimal, string)** vector which captures **(player, empirical pose value, pose classification)**. For example, sample data may look like:\n",
        "\n",
        "**(Serena Williams, 0.453, negative pose)**\n",
        "\n",
        "**(Aryna Sabalenka, 0.321, positive pose)**\n",
        "\n",
        "etc.\n",
        "\n",
        "Finally, we use a **t-test on summary statistics** to evaluate whether there is a posture difference between the top-ranked WTA players and the lower-ranked WTA players.\n",
        "\n",
        "\n"
      ],
      "metadata": {
        "id": "8Dh-QVpuZKmk"
      }
    },
    {
      "cell_type": "markdown",
      "source": [
        "#Empirical Classification of Posture\n",
        "\n",
        "Classical and **well established research** suggests the following:\n",
        "\n",
        "1.   A common **power/victory pose** is captured by an **\"arms-above-the-head\"** posture\n",
        "2.   Striking a particular pose **affects a person's mindset**, regardless of whether the person is striking the pose conciously, or even if they are forcing themselves into the posture.\n",
        "\n",
        "\n",
        "![text](https://drive.google.com/uc?export=view&id=1BW7GV6sYdhjGLDHhirswfZOQoxMOZz6X)\n",
        "\n",
        "\n",
        "Hence, Point 1) suggests that we can estimate the \"positivity\" of a posture by examining the **distance** between the **players' hands and her head**. Point 2) implies that the **closer** the hands are to the head, the **more \"positive\"** the player will feel, whether or not the action is concious, or **even if it is forced**. The exception to this rule is if the hand is directly on the face, indicating hesitation (negative posture), or if the hands are above the head in exasperation (negative posture). We handle these cases separately.\n",
        "\n",
        "But, if one player is shorter than another, the shorter player's hands will be closer to her head by default, even at a completely neutral posture. Hence, we **normalize** by overall **player height** to account for this.\n",
        "\n",
        "Specifically, we use the following **empirical formula** to assign the following empirical pose value to each players' posture:\n",
        "\n",
        "$\\text{empirical pose value} = \\frac{\\text{(right eye height - right wrist height) + (left eye height - left wrist height)}}{\\text{(right eye height - right ankle height) + (left eye height - left ankle height)}}$\n",
        "\n",
        "Each of these keypoints is captured by MoveNet's posture recognition, detailed [here](https://tfhub.dev/google/movenet/singlepose/lightning/4).\n",
        "\n",
        "Note that **smaller** empirical pose values imply a **more positive posture**. Indeed, as the hands approach the head, the numerator gets smaller and the pose gets more positive; if the hands were above the head entirely (the strongest posture), then the numerator would be negative and the empirical pose value would be negative overall. Smaller empirical pose values also can result from a large denominator, which means that the eyes and ankles are far apart and the player is erect (as opposed to hunched) in stature. All of this indicates that **smaller empirical pose values** imply a **more positive posture**, and vice versa.\n",
        "\n",
        "Indeed, the postive-posturing of Serena Williams directly above recieved a lower value of -0.0634 when ran through our MoveNet algorithm, whereas the negative posturing below received a higher value of 0.4783, **both as expected** based on qualitative assessment.\n",
        "\n",
        "![text](https://drive.google.com/uc?export=view&id=1wom9WmcuyPXI4sDkwnnArDoEHOy-vOwY)\n"
      ],
      "metadata": {
        "id": "ZOW1W7swZ4P_"
      }
    },
    {
      "cell_type": "markdown",
      "source": [
        "#Results and Analysis\n",
        "\n",
        "To restate the initial question more generally, we examine ...\n",
        "\n",
        "> How do the **between-point postures** of **top-ranked** WTA tennis players differ from the between-point **postures of lower-ranked** Women's Challenger tennis players?\n",
        "\n",
        "As detailed in the DATA COLLECTION section, we scraped 30 images: 15 from top-ranked WTA tennis players, and 15 from lower-ranked players. Each image was taken randomly, in between points, and from equally-skilled matches. We then used MoveNet Lightning to determine an empirical pose value and classify it as detailed in the EMPIRICAL CLASSIFICATION section. **All images and analysis** can be found on [Raj's Google Colab Doc](https://colab.research.google.com/drive/1sBl3iQHMe2RDq8ErY4aDI-R7S2rgHWbR?usp=sharing) and the [Player Posture Image Reference Sheet ](https://docs.google.com/spreadsheets/d/1XYoEnYKDukmcAHkx7W9bBJ-sOEzLDQBBNTHWQkx5Iz8/edit#gid=0).\n",
        "\n",
        "Resulting summary statistics are outlined here:"
      ],
      "metadata": {
        "id": "fQ9GPgjErAOn"
      }
    },
    {
      "cell_type": "markdown",
      "source": [
        "The following suggests that **WTA players** do, in fact, **exhibit a higher proportion of positive poses** than Challenger-level players (**40%** compared to **27%** of poses classified as positive)."
      ],
      "metadata": {
        "id": "wOiBw3CuS4ka"
      }
    },
    {
      "cell_type": "code",
      "source": [
        "# Proportion of  poses , by type\n",
        "df['Proportion'] = pd.qcut(df['Score'], 3, labels=[\"Positive Poses\", \"Neutral Poses\", \"Negative Poses\"])\n",
        "print(df.groupby(['Type','Proportion']).count()['Score']/15)"
      ],
      "metadata": {
        "colab": {
          "base_uri": "https://localhost:8080/"
        },
        "id": "-1aWZsE8M4fj",
        "outputId": "f26f8657-ff5e-4d1a-89e5-cff9bf01a513"
      },
      "execution_count": null,
      "outputs": [
        {
          "output_type": "stream",
          "name": "stdout",
          "text": [
            "Type        Proportion    \n",
            "Challenger  Positive Poses    0.266667\n",
            "            Neutral Poses     0.333333\n",
            "            Negative Poses    0.400000\n",
            "WTA         Positive Poses    0.400000\n",
            "            Neutral Poses     0.333333\n",
            "            Negative Poses    0.266667\n",
            "Name: Score, dtype: float64\n"
          ]
        }
      ]
    },
    {
      "cell_type": "markdown",
      "source": [
        "\n",
        "\n",
        "```\n",
        "# This is formatted as code\n",
        "```\n",
        "\n",
        "Indeed, even when **averaging across the empirical_pose_values** for both groups, **WTA plays show a slight edge** in more positive posturing (**3.9%** uplift).\n",
        "\n"
      ],
      "metadata": {
        "id": "i8d7i5U6TMC5"
      }
    },
    {
      "cell_type": "code",
      "source": [
        "# Avg score by type\n",
        "print(\" Avg Score by Type\")\n",
        "print(df.groupby(['Type'])['Score'].mean())\n",
        "print(\"\\n StDev Score by Type\")\n"
      ],
      "metadata": {
        "colab": {
          "base_uri": "https://localhost:8080/"
        },
        "id": "F6udCSSbNo5R",
        "outputId": "ffc4e34d-e65c-4b76-d45c-48bc3828308a"
      },
      "execution_count": null,
      "outputs": [
        {
          "output_type": "stream",
          "name": "stdout",
          "text": [
            " Avg Score by Type\n",
            "Type\n",
            "Challenger    0.398018\n",
            "WTA           0.383617\n",
            "Name: Score, dtype: float64\n",
            "\n",
            " StDev Score by Type\n"
          ]
        }
      ]
    },
    {
      "cell_type": "markdown",
      "source": [
        "We also include **each individual player's** mean and stdev **posture score**. Further, there appears to be **no clear separation**, however, between **WTA and Challengers** in the distributional plot of pose_values, shown below."
      ],
      "metadata": {
        "id": "-iwefYLpvWT_"
      }
    },
    {
      "cell_type": "code",
      "source": [
        "#Avg score by player\n",
        "print(df.groupby(['Type'])['Score'].std())\n",
        "print(\"\\n Avg Score by Player\")\n",
        "print(df.groupby(['Player'])['Score'].mean())\n",
        "print(\"\\n StDev Score by Player\")\n",
        "print(df.groupby(['Player'])['Score'].std())"
      ],
      "metadata": {
        "colab": {
          "base_uri": "https://localhost:8080/"
        },
        "id": "oGTGwZf0vd7H",
        "outputId": "118cf4f0-b0fd-455d-ac85-86a4f4cfb41e"
      },
      "execution_count": null,
      "outputs": [
        {
          "output_type": "stream",
          "name": "stdout",
          "text": [
            "Type\n",
            "Challenger    0.075714\n",
            "WTA           0.063723\n",
            "Name: Score, dtype: float64\n",
            "\n",
            " Avg Score by Player\n",
            "Player\n",
            "Aryna Sabalenka    0.386870\n",
            "Eva Lys            0.354640\n",
            "Lou Brouleau       0.440520\n",
            "Maria Sharapova    0.370434\n",
            "Priscilla Hon      0.398895\n",
            "Serena Williams    0.393548\n",
            "Name: Score, dtype: float64\n",
            "\n",
            " StDev Score by Player\n",
            "Player\n",
            "Aryna Sabalenka    0.054136\n",
            "Eva Lys            0.071674\n",
            "Lou Brouleau       0.048025\n",
            "Maria Sharapova    0.072154\n",
            "Priscilla Hon      0.089495\n",
            "Serena Williams    0.075642\n",
            "Name: Score, dtype: float64\n"
          ]
        }
      ]
    },
    {
      "cell_type": "code",
      "source": [
        "#Hist by type\n",
        "\n",
        "WTA = df[df['Type'] == 'WTA']['Score']\n",
        "Challenger = df[df['Type'] == 'Challenger']['Score']\n",
        "\n",
        "bins = np.linspace(0, 1, 100)\n",
        "\n",
        "plt.hist(WTA, bins, alpha=0.5, label='WTA')\n",
        "plt.hist(Challenger, bins, alpha=0.5, label='Challenger')\n",
        "plt.legend(loc='upper right')\n",
        "plt.xlabel('Empirical Pose Value')\n",
        "plt.ylabel('# Poses')\n",
        "plt.title('Pose Values for WTA VS. Challenger')\n"
      ],
      "metadata": {
        "colab": {
          "base_uri": "https://localhost:8080/",
          "height": 528
        },
        "id": "lpBXqTACN1i8",
        "outputId": "0e69c713-9e04-4934-c441-027130ddcb27"
      },
      "execution_count": null,
      "outputs": [
        {
          "output_type": "execute_result",
          "data": {
            "text/plain": [
              "Text(0.5, 1.0, 'Pose Values for WTA VS. Challenger')"
            ]
          },
          "metadata": {},
          "execution_count": 16
        },
        {
          "output_type": "display_data",
          "data": {
            "text/plain": [
              "<Figure size 640x480 with 1 Axes>"
            ],
            "image/png": "[encoded data removed]"
          },
          "metadata": {}
        }
      ]
    },
    {
      "cell_type": "markdown",
      "source": [
        "Indeed, a **small effect size** coupled with a **low p-value** makes us ***unable to reject the null hypothesis*** of \"no difference between the two groups\"."
      ],
      "metadata": {
        "id": "oMGSG1PdXWYE"
      }
    },
    {
      "cell_type": "code",
      "source": [
        "#t-test by type\n",
        "tstat, pval = scipy.stats.ttest_ind(df[df['Type'] == 'WTA']['Score'], df[df['Type'] == 'Challenger']['Score'])\n",
        "\n",
        "print(\"tstat: \" , tstat)\n",
        "print( \"pval: \" , pval)"
      ],
      "metadata": {
        "colab": {
          "base_uri": "https://localhost:8080/"
        },
        "id": "RzfUwyUwN87x",
        "outputId": "6406b076-3176-45ee-fa97-cbc2857a6a8b"
      },
      "execution_count": null,
      "outputs": [
        {
          "output_type": "stream",
          "name": "stdout",
          "text": [
            "tstat:  -0.5636058490926592\n",
            "pval:  0.5775088107473891\n"
          ]
        }
      ]
    },
    {
      "cell_type": "markdown",
      "source": [
        "#Conclusions, Limitations, and Future Work\n",
        "\n",
        "**Conclusion**\n",
        "\n",
        "The results of this study suggest that while higher-ranked **WTA players slightly edge out** lower-ranked Challengers in posturing, the low sample size, **small effect size**, and **high p-value** ultimately suggest that **more research is needed** before affirming that higher ranked female tennis players indeed exhibit better posture, on average, than lower ranked female tennis players.\n",
        "\n",
        "In fact, players between both groups (WTA and Challenger) **exhibited many commonalties in posturing**: clear negative posturing when a match loss was imminent; clear neutral posturing when down big on their own serve; no  incongruity between the point outcome and the posturing, and so on.\n",
        "\n",
        "Moreover, **each player demonstrated her own distinct pattern of posturing**, and better WTA players appeared to be **no less prone** to negative posturing than did lower-ranked Challenger players. Conversely, lower-ranked players appeared to **exhibit the same pattern of positive posturing** as did the higher-ranked players after winning a point, thus making the conclusion that better players exhibit better posture between points likely **untenable without more research**.\n",
        "\n",
        "We list some qualitative analysis below:\n",
        "\n",
        "--------\n",
        "\n",
        "**Williams** displays strong negative posture after a lost point, and strong positive postures after a won point. Her postures are often more complex — kneeling on the floor, touching the face and screaming, leg kicking, etc.\n",
        "\n",
        "**Sabalenka** seemed to be more (negatively) emotive with face and eyes, and generally pretty reserved with body postures whether she won or lost the point. Indeed, Sabalenka’s posture scores averaged around the same as Williams’,  but with less variance.\n",
        "\n",
        "**Sharapova** displayed hardly any signs of negative body posture after a lost point, and only slight positive postures after winning points.\n",
        "\n",
        "**Hon** was very reserved with her posture after either a won or a lost point. Hon hardly showed positive displays after a won point, and showed very slight negative displays after a lost point. She hung her head frequently, typically an indication of a negative posture, though this was likely done more in thought than out of despair. As a result, her  empirical_pose_values were higher (indicating worse posture, from her head-hanging) though a human interpreter may have reached different conclusions than MoveNet.\n",
        "\n",
        "**Lys** was the unique player who showed consistent positive posturing after a win. She typically did this in the form of a fist pump. Conversely, she showed hardly any negative displays after a loss.\n",
        "\n",
        "**Brouleau** in most cases tended towards neutral to negative posturing, with relatively little variance.\n",
        "\n",
        "-------\n",
        "\n",
        "The **considerable emotive and posture variation** amongst players — and especially the **appearance of an outlier like Serena Williams**, who displays strong and clear negative posture despite being far and away the best of the selected players —  indicates that positive posture may not be directly correlated with better players.  Instead, it seems that **each player has a distinctive mode of expression**, which can vary considerably from player to player and seems to not be superior or even differentiable when comparing  WTA players to lower-ranked Challengers.\n",
        "\n",
        "Maintaining a positive posture between-points, then, **likely is far out-dominated by stroke mechanics, hitting power, “clutchness”, and other factors**. This is not to discount the importance of posturing in affecting mental belief, and the importance of mental belief in winning tennis matches, as **both seem to be intuitively stressed by coaches and professionals**. However, in the case of tennis, **intensity of the posture seems more dictated by the intensity of the match**, with more variability in posturing arising from a more engaged crowd during more important moments of the match.\n",
        "\n",
        "**Limitations and Future Work**\n",
        "\n",
        "Though the questions posed by the study are unique, there are limitations to the methodology due to resource restraints. Here, we list a few.\n",
        "\n",
        "First, the **classification of each posture** as negative/neutral/positive, though rooted in empirical literature, **can be improved upon**. For example, there is a 15-second window between points, from which the player may go through a range of postures. Therefore, it would be more accurate to take an of **\"average-posture\"** of the **between-point window**, by using a **full video** instead of a **collection of still images**. Additionally, we must be careful to acknowledge that match-intensity  (e.g. Wimbledon finals VS an ITF Challengers final) may itself be a driver of certain modes of posture. **Within-group analysis of variance** with a larger sample size could **account for match-intensity**.\n",
        "\n",
        "Similarly, we would use more sophisticated methods of pose estimation **(spine angle, neck/head relationship)**, also in conjunction with **facial recognition**, to obtain a more reliable prediction of the pose. We note that MoveNet's pose estimation is not perfect, and also that there are certain **nuances to poses** that may not be captured entirely by a strict equational output. Hanging head could be indication of thinking, and was done in most cases. Tilting the head back in some cases can be a sign of positive posture, but in most cases during the matches indicated the player was frustrated with the outcome. A lifted racket could indicate an apology, instead of a victory-pose, and so on.\n",
        "\n",
        "\n",
        "\n",
        "Finally, we could examine another intriguing question:\n",
        "\n",
        "> QUESTION 2 : Does a WTA athlete's **posture *between* points** affect her success on ***subsequent*** points?\n",
        "\n",
        " This would require **much more extensive data collection** and normalization. In this case, a regression that analyzes which explanatory variable amongst several (one of which is \"positive posture\") most strongly predicts a \"victory/loss\" response variable seems adequate. We could similarly examine the relative **relationship between posture and mechanics** in determining athletic success.\n",
        "\n",
        "Note that having a sufficiently large value $X$ of still images, sourced from several dozen or hundred different female players, would normalize for the first noted limitation, though again, due to resource restraints we limited the value of $X$ to a reasonably acheivable value. The intent of this paper was not to form an airtight conclusion, but rather to demonstrate the researcher's facility with classical pose-estimation tools and ability to formulate and execute on a reasonable methodology.\n",
        "\n",
        "**Thank you for reading!**\n",
        "\n"
      ],
      "metadata": {
        "id": "iPt1pZdvTxo5"
      }
    },
    {
      "cell_type": "markdown",
      "source": [
        "#APPENDIX: CODE"
      ],
      "metadata": {
        "id": "bLURMyh9T_sv"
      }
    },
    {
      "cell_type": "markdown",
      "source": [
        "Install & Load Dependencies"
      ],
      "metadata": {
        "id": "VM07keVnU5OP"
      }
    },
    {
      "cell_type": "code",
      "source": [
        "!pip install matplotlib\n",
        "!pip install tensorflow==2.8.0\n",
        "!pip install opencv-python\n",
        "!pip install -q imageio\n",
        "!pip install -q opencv-python\n",
        "!pip install -q git+https://github.com/tensorflow/docs\n",
        "\n",
        "import tensorflow as tf\n",
        "import tensorflow_hub as hub\n",
        "from tensorflow_docs.vis import embed\n",
        "import numpy as np\n",
        "import pandas as pd\n",
        "import cv2\n",
        "import math\n",
        "import scipy\n",
        "\n",
        "\n",
        "\n",
        "# Import matplotlib libraries\n",
        "from scipy import stats\n",
        "from matplotlib import pyplot as plt\n",
        "from matplotlib.collections import LineCollection\n",
        "import matplotlib.patches as patches\n",
        "\n",
        "# Some modules to display an animation using imageio.\n",
        "import imageio\n",
        "from IPython.display import HTML, display\n",
        "from keras.preprocessing.image import ImageDataGenerator\n"
      ],
      "metadata": {
        "id": "7CournPcUMOF"
      },
      "execution_count": null,
      "outputs": []
    },
    {
      "cell_type": "markdown",
      "source": [
        "Load Models"
      ],
      "metadata": {
        "id": "f2gggq2uUzxv"
      }
    },
    {
      "cell_type": "code",
      "source": [
        "model_name = \"movenet_lightning\"\n",
        "\n",
        "if \"tflite\" in model_name:\n",
        "  if \"movenet_lightning_f16\" in model_name:\n",
        "    !wget -q -O model.tflite https://tfhub.dev/google/lite-model/movenet/singlepose/lightning/tflite/float16/4?lite-format=tflite\n",
        "    input_size = 192\n",
        "  elif \"movenet_thunder_f16\" in model_name:\n",
        "    !wget -q -O model.tflite https://tfhub.dev/google/lite-model/movenet/singlepose/thunder/tflite/float16/4?lite-format=tflite\n",
        "    input_size = 256\n",
        "  elif \"movenet_lightning_int8\" in model_name:\n",
        "    !wget -q -O model.tflite https://tfhub.dev/google/lite-model/movenet/singlepose/lightning/tflite/int8/4?lite-format=tflite\n",
        "    input_size = 192\n",
        "  elif \"movenet_thunder_int8\" in model_name:\n",
        "    !wget -q -O model.tflite https://tfhub.dev/google/lite-model/movenet/singlepose/thunder/tflite/int8/4?lite-format=tflite\n",
        "    input_size = 256\n",
        "  else:\n",
        "    raise ValueError(\"Unsupported model name: %s\" % model_name)\n",
        "\n",
        "  # Initialize the TFLite interpreter\n",
        "  interpreter = tf.lite.Interpreter(model_path=\"model.tflite\")\n",
        "  interpreter.allocate_tensors()\n",
        "\n",
        "  def movenet(input_image):\n",
        "    \"\"\"Runs detection on an input image.\n",
        "\n",
        "    Args:\n",
        "      input_image: A [1, height, width, 3] tensor represents the input image\n",
        "        pixels. Note that the height/width should already be resized and match the\n",
        "        expected input resolution of the model before passing into this function.\n",
        "\n",
        "    Returns:\n",
        "      A [1, 1, 17, 3] float numpy array representing the predicted keypoint\n",
        "      coordinates and scores.\n",
        "    \"\"\"\n",
        "    # TF Lite format expects tensor type of uint8.\n",
        "    input_image = tf.cast(input_image, dtype=tf.uint8)\n",
        "    input_details = interpreter.get_input_details()\n",
        "    output_details = interpreter.get_output_details()\n",
        "    interpreter.set_tensor(input_details[0]['index'], input_image.numpy())\n",
        "    # Invoke inference.\n",
        "    interpreter.invoke()\n",
        "    # Get the model prediction.\n",
        "    keypoints_with_scores = interpreter.get_tensor(output_details[0]['index'])\n",
        "    return keypoints_with_scores\n",
        "\n",
        "else:\n",
        "  if \"movenet_lightning\" in model_name:\n",
        "    module = hub.load(\"https://tfhub.dev/google/movenet/singlepose/lightning/4\")\n",
        "    input_size = 192\n",
        "  elif \"movenet_thunder\" in model_name:\n",
        "    module = hub.load(\"https://tfhub.dev/google/movenet/singlepose/thunder/4\")\n",
        "    input_size = 256\n",
        "  else:\n",
        "    raise ValueError(\"Unsupported model name: %s\" % model_name)\n",
        "\n",
        "  def movenet(input_image):\n",
        "    \"\"\"Runs detection on an input image.\n",
        "\n",
        "    Args:\n",
        "      input_image: A [1, height, width, 3] tensor represents the input image\n",
        "        pixels. Note that the height/width should already be resized and match the\n",
        "        expected input resolution of the model before passing into this function.\n",
        "\n",
        "    Returns:\n",
        "      A [1, 1, 17, 3] float numpy array representing the predicted keypoint\n",
        "      coordinates and scores.\n",
        "    \"\"\"\n",
        "    model = module.signatures['serving_default']\n",
        "\n",
        "    # SavedModel format expects tensor type of int32.\n",
        "    input_image = tf.cast(input_image, dtype=tf.int32)\n",
        "    # Run model inference.\n",
        "    outputs = model(input_image)\n",
        "    # Output is a [1, 1, 17, 3] tensor.\n",
        "    keypoints_with_scores = outputs['output_0'].numpy()\n",
        "    return keypoints_with_scores"
      ],
      "metadata": {
        "id": "G6_0sWy0Uo5Y"
      },
      "execution_count": null,
      "outputs": []
    },
    {
      "cell_type": "markdown",
      "source": [
        "Viz Functions\n"
      ],
      "metadata": {
        "id": "i7Ju2Mstbdtb"
      }
    },
    {
      "cell_type": "code",
      "source": [
        "# Dictionary that maps from joint names to keypoint indices.\n",
        "KEYPOINT_DICT = {\n",
        "    'nose': 0,\n",
        "    'left_eye': 1,\n",
        "    'right_eye': 2,\n",
        "    'left_ear': 3,\n",
        "    'right_ear': 4,\n",
        "    'left_shoulder': 5,\n",
        "    'right_shoulder': 6,\n",
        "    'left_elbow': 7,\n",
        "    'right_elbow': 8,\n",
        "    'left_wrist': 9,\n",
        "    'right_wrist': 10,\n",
        "    'left_hip': 11,\n",
        "    'right_hip': 12,\n",
        "    'left_knee': 13,\n",
        "    'right_knee': 14,\n",
        "    'left_ankle': 15,\n",
        "    'right_ankle': 16\n",
        "}\n",
        "\n",
        "# Maps bones to a matplotlib color name.\n",
        "KEYPOINT_EDGE_INDS_TO_COLOR = {\n",
        "    (0, 1): 'm',\n",
        "    (0, 2): 'c',\n",
        "    (1, 3): 'm',\n",
        "    (2, 4): 'c',\n",
        "    (0, 5): 'm',\n",
        "    (0, 6): 'c',\n",
        "    (5, 7): 'm',\n",
        "    (7, 9): 'm',\n",
        "    (6, 8): 'c',\n",
        "    (8, 10): 'c',\n",
        "    (5, 6): 'y',\n",
        "    (5, 11): 'm',\n",
        "    (6, 12): 'c',\n",
        "    (11, 12): 'y',\n",
        "    (11, 13): 'm',\n",
        "    (13, 15): 'm',\n",
        "    (12, 14): 'c',\n",
        "    (14, 16): 'c'\n",
        "}\n",
        "\n",
        "def _keypoints_and_edges_for_display(keypoints_with_scores,\n",
        "                                     height,\n",
        "                                     width,\n",
        "                                     keypoint_threshold=0.11):\n",
        "  \"\"\"Returns high confidence keypoints and edges for visualization.\n",
        "\n",
        "  Args:\n",
        "    keypoints_with_scores: A numpy array with shape [1, 1, 17, 3] representing\n",
        "      the keypoint coordinates and scores returned from the MoveNet model.\n",
        "    height: height of the image in pixels.\n",
        "    width: width of the image in pixels.\n",
        "    keypoint_threshold: minimum confidence score for a keypoint to be\n",
        "      visualized.\n",
        "\n",
        "  Returns:\n",
        "    A (keypoints_xy, edges_xy, edge_colors) containing:\n",
        "      * the coordinates of all keypoints of all detected entities;\n",
        "      * the coordinates of all skeleton edges of all detected entities;\n",
        "      * the colors in which the edges should be plotted.\n",
        "  \"\"\"\n",
        "  keypoints_all = []\n",
        "  keypoint_edges_all = []\n",
        "  edge_colors = []\n",
        "  num_instances, _, _, _ = keypoints_with_scores.shape\n",
        "  for idx in range(num_instances):\n",
        "    kpts_x = keypoints_with_scores[0, idx, :, 1]\n",
        "    kpts_y = keypoints_with_scores[0, idx, :, 0]\n",
        "    kpts_scores = keypoints_with_scores[0, idx, :, 2]\n",
        "    kpts_absolute_xy = np.stack(\n",
        "        [width * np.array(kpts_x), height * np.array(kpts_y)], axis=-1)\n",
        "    kpts_above_thresh_absolute = kpts_absolute_xy[\n",
        "        kpts_scores > keypoint_threshold, :]\n",
        "    keypoints_all.append(kpts_above_thresh_absolute)\n",
        "\n",
        "    for edge_pair, color in KEYPOINT_EDGE_INDS_TO_COLOR.items():\n",
        "      if (kpts_scores[edge_pair[0]] > keypoint_threshold and\n",
        "          kpts_scores[edge_pair[1]] > keypoint_threshold):\n",
        "        x_start = kpts_absolute_xy[edge_pair[0], 0]\n",
        "        y_start = kpts_absolute_xy[edge_pair[0], 1]\n",
        "        x_end = kpts_absolute_xy[edge_pair[1], 0]\n",
        "        y_end = kpts_absolute_xy[edge_pair[1], 1]\n",
        "        line_seg = np.array([[x_start, y_start], [x_end, y_end]])\n",
        "        keypoint_edges_all.append(line_seg)\n",
        "        edge_colors.append(color)\n",
        "  if keypoints_all:\n",
        "    keypoints_xy = np.concatenate(keypoints_all, axis=0)\n",
        "  else:\n",
        "    keypoints_xy = np.zeros((0, 17, 2))\n",
        "\n",
        "  if keypoint_edges_all:\n",
        "    edges_xy = np.stack(keypoint_edges_all, axis=0)\n",
        "  else:\n",
        "    edges_xy = np.zeros((0, 2, 2))\n",
        "  return keypoints_xy, edges_xy, edge_colors\n",
        "\n",
        "\n",
        "def draw_prediction_on_image(\n",
        "    image, keypoints_with_scores, crop_region=None, close_figure=False,\n",
        "    output_image_height=None):\n",
        "  \"\"\"Draws the keypoint predictions on image.\n",
        "\n",
        "  Args:\n",
        "    image: A numpy array with shape [height, width, channel] representing the\n",
        "      pixel values of the input image.\n",
        "    keypoints_with_scores: A numpy array with shape [1, 1, 17, 3] representing\n",
        "      the keypoint coordinates and scores returned from the MoveNet model.\n",
        "    crop_region: A dictionary that defines the coordinates of the bounding box\n",
        "      of the crop region in normalized coordinates (see the init_crop_region\n",
        "      function below for more detail). If provided, this function will also\n",
        "      draw the bounding box on the image.\n",
        "    output_image_height: An integer indicating the height of the output image.\n",
        "      Note that the image aspect ratio will be the same as the input image.\n",
        "\n",
        "  Returns:\n",
        "    A numpy array with shape [out_height, out_width, channel] representing the\n",
        "    image overlaid with keypoint predictions.\n",
        "  \"\"\"\n",
        "  height, width, channel = image.shape\n",
        "  aspect_ratio = float(width) / height\n",
        "  fig, ax = plt.subplots(figsize=(12 * aspect_ratio, 12))\n",
        "  # To remove the huge white borders\n",
        "  fig.tight_layout(pad=0)\n",
        "  ax.margins(0)\n",
        "  ax.set_yticklabels([])\n",
        "  ax.set_xticklabels([])\n",
        "  plt.axis('off')\n",
        "\n",
        "  im = ax.imshow(image)\n",
        "  line_segments = LineCollection([], linewidths=(4), linestyle='solid')\n",
        "  ax.add_collection(line_segments)\n",
        "  # Turn off tick labels\n",
        "  scat = ax.scatter([], [], s=60, color='#FF1493', zorder=3)\n",
        "\n",
        "  (keypoint_locs, keypoint_edges,\n",
        "   edge_colors) = _keypoints_and_edges_for_display(\n",
        "       keypoints_with_scores, height, width)\n",
        "\n",
        "  line_segments.set_segments(keypoint_edges)\n",
        "  line_segments.set_color(edge_colors)\n",
        "  if keypoint_edges.shape[0]:\n",
        "    line_segments.set_segments(keypoint_edges)\n",
        "    line_segments.set_color(edge_colors)\n",
        "  if keypoint_locs.shape[0]:\n",
        "    scat.set_offsets(keypoint_locs)\n",
        "\n",
        "  if crop_region is not None:\n",
        "    xmin = max(crop_region['x_min'] * width, 0.0)\n",
        "    ymin = max(crop_region['y_min'] * height, 0.0)\n",
        "    rec_width = min(crop_region['x_max'], 0.99) * width - xmin\n",
        "    rec_height = min(crop_region['y_max'], 0.99) * height - ymin\n",
        "    rect = patches.Rectangle(\n",
        "        (xmin,ymin),rec_width,rec_height,\n",
        "        linewidth=1,edgecolor='b',facecolor='none')\n",
        "    ax.add_patch(rect)\n",
        "\n",
        "  fig.canvas.draw()\n",
        "  image_from_plot = np.frombuffer(fig.canvas.tostring_rgb(), dtype=np.uint8)\n",
        "  image_from_plot = image_from_plot.reshape(\n",
        "      fig.canvas.get_width_height()[::-1] + (3,))\n",
        "  plt.close(fig)\n",
        "  if output_image_height is not None:\n",
        "    output_image_width = int(output_image_height / height * width)\n",
        "    image_from_plot = cv2.resize(\n",
        "        image_from_plot, dsize=(output_image_width, output_image_height),\n",
        "         interpolation=cv2.INTER_CUBIC)\n",
        "  return image_from_plot\n",
        "\n",
        "def to_gif(images, duration):\n",
        "  \"\"\"Converts image sequence (4D numpy array) to gif.\"\"\"\n",
        "  imageio.mimsave('./animation.gif', images, duration=duration)\n",
        "  return embed.embed_file('./animation.gif')\n",
        "\n",
        "def progress(value, max=100):\n",
        "  return HTML(\"\"\"\n",
        "      <progress\n",
        "          value='{value}'\n",
        "          max='{max}',\n",
        "          style='width: 100%'\n",
        "      >\n",
        "          {value}\n",
        "      </progress>\n",
        "  \"\"\".format(value=value, max=max))"
      ],
      "metadata": {
        "id": "w4KXzBjybiYZ"
      },
      "execution_count": null,
      "outputs": []
    },
    {
      "cell_type": "markdown",
      "source": [
        "Processing & Inference of Each Image"
      ],
      "metadata": {
        "id": "1f8qBnavWhr0"
      }
    },
    {
      "cell_type": "code",
      "source": [
        "!curl -o input_image.jpeg https://rajraina.com/wp-content/uploads/2023/06/serena-win.jpeg --silent\n",
        "\n",
        "# Load the input image.\n",
        "image_path = 'input_image.jpeg'\n",
        "image = tf.io.read_file(image_path)\n",
        "image = tf.image.decode_jpeg(image)\n",
        "\n",
        "#Inference\n",
        "# Resize and pad the image to keep the aspect ratio and fit the expected size.\n",
        "input_image = tf.expand_dims(image, axis=0)\n",
        "input_image = tf.image.resize_with_pad(input_image, input_size, input_size)\n",
        "\n",
        "# Run model inference.\n",
        "keypoints_with_scores = movenet(input_image)\n",
        "\n",
        "# Visualize the predictions with image.\n",
        "display_image = tf.expand_dims(image, axis=0)\n",
        "display_image = tf.cast(tf.image.resize_with_pad(\n",
        "    display_image, 1280, 1280), dtype=tf.int32)\n",
        "output_overlay = draw_prediction_on_image(np.squeeze(display_image.numpy(), axis=0), keypoints_with_scores)\n",
        "\n",
        "plt.figure(figsize=(5, 5))\n",
        "plt.imshow(output_overlay)\n",
        "_ = plt.axis('off')\n",
        "\n",
        "#Compute the empirical_pose_value; only the z-coordinate is necessary\n",
        "this_empirical_pose_value = ((keypoints_with_scores[0][0][2][0]-keypoints_with_scores[0][0][10][0])+(keypoints_with_scores[0][0][1][0]-keypoints_with_scores[0][0][9][0]))/ \\\n",
        "((keypoints_with_scores[0][0][2][0]-keypoints_with_scores[0][0][16][0])+(keypoints_with_scores[0][0][1][0]-keypoints_with_scores[0][0][15][0]))\n",
        "\n",
        "print(this_empirical_pose_value)\n"
      ],
      "metadata": {
        "id": "wgDKwS3MWjhc"
      },
      "execution_count": null,
      "outputs": []
    },
    {
      "cell_type": "code",
      "source": [
        "sheet_url = \"https://docs.google.com/spreadsheets/d/1XYoEnYKDukmcAHkx7W9bBJ-sOEzLDQBBNTHWQkx5Iz8/edit#gid=0\"\n",
        "url_1 = sheet_url.replace('/edit#gid=', '/export?format=csv&gid=')\n",
        "\n",
        "df=pd.read_csv(url_1)"
      ],
      "metadata": {
        "id": "m8MSBqOXDmAI"
      },
      "execution_count": null,
      "outputs": []
    }
  ]
}